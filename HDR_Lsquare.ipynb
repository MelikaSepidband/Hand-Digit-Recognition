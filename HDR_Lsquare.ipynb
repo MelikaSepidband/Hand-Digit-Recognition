{
 "cells": [
  {
   "cell_type": "markdown",
   "id": "f1b9835b",
   "metadata": {},
   "source": [
    "## import libraries"
   ]
  },
  {
   "cell_type": "code",
   "execution_count": 41,
   "id": "2311fbe0",
   "metadata": {},
   "outputs": [],
   "source": [
    "import glob\n",
    "import numpy as np\n",
    "from PIL import Image"
   ]
  },
  {
   "cell_type": "markdown",
   "id": "5f93b798",
   "metadata": {},
   "source": [
    "## path of train set"
   ]
  },
  {
   "cell_type": "code",
   "execution_count": 42,
   "id": "f293e44d",
   "metadata": {},
   "outputs": [],
   "source": [
    "path='C:\\\\Users\\\\Melika\\\\OneDrive\\\\Documents\\\\my lessons\\\\com data mining\\\\tamrin4\\\\mnist_train'"
   ]
  },
  {
   "cell_type": "markdown",
   "id": "09edb613",
   "metadata": {},
   "source": [
    "## function for convert image to an 1D array"
   ]
  },
  {
   "cell_type": "code",
   "execution_count": 43,
   "id": "57ce187c",
   "metadata": {},
   "outputs": [],
   "source": [
    "def img_to_array(g):\n",
    "    img=[]\n",
    "    for i in g:\n",
    "        img.append((np.asarray(Image.open(i))).flatten())\n",
    "    return np.transpose(img)"
   ]
  },
  {
   "cell_type": "markdown",
   "id": "27324e40",
   "metadata": {},
   "source": [
    "## convert images to array and keep them in an array of matrices"
   ]
  },
  {
   "cell_type": "code",
   "execution_count": 44,
   "id": "db961918",
   "metadata": {},
   "outputs": [],
   "source": [
    "A=[]\n",
    "for i in range(0,10):\n",
    "    A.append(img_to_array(glob.glob(path+'\\\\'+str(i)+'\\\\*.jpg')))"
   ]
  },
  {
   "cell_type": "markdown",
   "id": "f0cb7739",
   "metadata": {},
   "source": [
    "## test set"
   ]
  },
  {
   "cell_type": "code",
   "execution_count": 45,
   "id": "1c070996",
   "metadata": {},
   "outputs": [],
   "source": [
    "path_test='C:\\\\Users\\\\Melika\\\\OneDrive\\\\Documents\\\\my lessons\\\\com data mining\\\\tamrin4\\\\mnist_test'\n",
    "gtest=glob.glob(path_test+'\\\\*.jpg')"
   ]
  },
  {
   "cell_type": "markdown",
   "id": "e6b4996f",
   "metadata": {},
   "source": [
    "## convert test images to array "
   ]
  },
  {
   "cell_type": "code",
   "execution_count": 46,
   "id": "2833ccea",
   "metadata": {},
   "outputs": [],
   "source": [
    "img_test=np.transpose(img_to_array(gtest))"
   ]
  },
  {
   "cell_type": "code",
   "execution_count": 47,
   "id": "57e6c523",
   "metadata": {},
   "outputs": [
    {
     "data": {
      "text/plain": [
       "(10, 784, 20)"
      ]
     },
     "execution_count": 47,
     "metadata": {},
     "output_type": "execute_result"
    }
   ],
   "source": [
    "np.shape(A)"
   ]
  },
  {
   "cell_type": "code",
   "execution_count": 48,
   "id": "9b9b6377",
   "metadata": {},
   "outputs": [
    {
     "data": {
      "text/plain": [
       "(50, 784)"
      ]
     },
     "execution_count": 48,
     "metadata": {},
     "output_type": "execute_result"
    }
   ],
   "source": [
    "np.shape(img_test)"
   ]
  },
  {
   "cell_type": "markdown",
   "id": "95b198ce",
   "metadata": {},
   "source": [
    "## function for find the best match for a new image with least square "
   ]
  },
  {
   "cell_type": "code",
   "execution_count": 49,
   "id": "690656d9",
   "metadata": {},
   "outputs": [],
   "source": [
    "def least_square(t):\n",
    "    mini=1000000000000000000\n",
    "    bestpic=0\n",
    "    for i in range(0,10):\n",
    "        X=np.linalg.lstsq(A[i],t,rcond=None)\n",
    "        if X[1] < mini:\n",
    "            mini=X[1]\n",
    "            bestpic=i\n",
    "    return bestpic"
   ]
  },
  {
   "cell_type": "markdown",
   "id": "743188ba",
   "metadata": {},
   "source": [
    "## classify 50 new images"
   ]
  },
  {
   "cell_type": "code",
   "execution_count": 50,
   "id": "963152de",
   "metadata": {},
   "outputs": [
    {
     "data": {
      "text/plain": [
       "[8,\n",
       " 0,\n",
       " 4,\n",
       " 4,\n",
       " 7,\n",
       " 3,\n",
       " 1,\n",
       " 6,\n",
       " 6,\n",
       " 9,\n",
       " 8,\n",
       " 9,\n",
       " 6,\n",
       " 5,\n",
       " 5,\n",
       " 7,\n",
       " 5,\n",
       " 3,\n",
       " 9,\n",
       " 6,\n",
       " 6,\n",
       " 6,\n",
       " 8,\n",
       " 6,\n",
       " 4,\n",
       " 6,\n",
       " 2,\n",
       " 2,\n",
       " 4,\n",
       " 6,\n",
       " 5,\n",
       " 3,\n",
       " 0,\n",
       " 5,\n",
       " 1,\n",
       " 5,\n",
       " 1,\n",
       " 4,\n",
       " 8,\n",
       " 9,\n",
       " 8,\n",
       " 0,\n",
       " 4,\n",
       " 5,\n",
       " 4,\n",
       " 1,\n",
       " 1,\n",
       " 5,\n",
       " 1,\n",
       " 1]"
      ]
     },
     "execution_count": 50,
     "metadata": {},
     "output_type": "execute_result"
    }
   ],
   "source": [
    "best_pics=[]\n",
    "for j in range(0,50) :\n",
    "    best_pics.append(least_square(img_test[j]))\n",
    "best_pics"
   ]
  },
  {
   "cell_type": "markdown",
   "id": "9c72c430",
   "metadata": {},
   "source": [
    "## real label of test images"
   ]
  },
  {
   "cell_type": "code",
   "execution_count": 51,
   "id": "fd6aeef5",
   "metadata": {},
   "outputs": [
    {
     "data": {
      "text/plain": [
       "(50,)"
      ]
     },
     "execution_count": 51,
     "metadata": {},
     "output_type": "execute_result"
    }
   ],
   "source": [
    "real_labels=[5,0,4,7,7,3,1,6,6,9,3,9,6,5,5,7,5,3,9,6,6,6,0,6,4,6,2,2,4,6,5,3,0,5,1,3,1,8,8,9,8,0,4,5,4,1,1,5,1,1]\n",
    "np.shape(real_labels)"
   ]
  },
  {
   "cell_type": "markdown",
   "id": "30c5b759",
   "metadata": {},
   "source": [
    "## number of test images that the classification for them is true"
   ]
  },
  {
   "cell_type": "code",
   "execution_count": 52,
   "id": "3cd58692",
   "metadata": {},
   "outputs": [
    {
     "data": {
      "text/plain": [
       "44"
      ]
     },
     "execution_count": 52,
     "metadata": {},
     "output_type": "execute_result"
    }
   ],
   "source": [
    "count=0\n",
    "for a in range(0,50):\n",
    "    if best_pics[a] == real_labels[a]:\n",
    "        count=count+1\n",
    "count"
   ]
  },
  {
   "cell_type": "code",
   "execution_count": null,
   "id": "d295406a",
   "metadata": {},
   "outputs": [],
   "source": []
  }
 ],
 "metadata": {
  "kernelspec": {
   "display_name": "Python 3 (ipykernel)",
   "language": "python",
   "name": "python3"
  },
  "language_info": {
   "codemirror_mode": {
    "name": "ipython",
    "version": 3
   },
   "file_extension": ".py",
   "mimetype": "text/x-python",
   "name": "python",
   "nbconvert_exporter": "python",
   "pygments_lexer": "ipython3",
   "version": "3.9.7"
  }
 },
 "nbformat": 4,
 "nbformat_minor": 5
}
