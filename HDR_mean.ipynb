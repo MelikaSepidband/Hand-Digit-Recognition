{
 "cells": [
  {
   "cell_type": "markdown",
   "id": "206aaa20",
   "metadata": {},
   "source": [
    "## import libraries"
   ]
  },
  {
   "cell_type": "code",
   "execution_count": 1,
   "id": "de6d7c97",
   "metadata": {},
   "outputs": [],
   "source": [
    "import glob\n",
    "import numpy as np\n",
    "from PIL import Image\n",
    "import matplotlib.pyplot as plt"
   ]
  },
  {
   "cell_type": "markdown",
   "id": "dd7ddbe8",
   "metadata": {},
   "source": [
    "## path of train set"
   ]
  },
  {
   "cell_type": "code",
   "execution_count": 2,
   "id": "380cea6b",
   "metadata": {},
   "outputs": [],
   "source": [
    "path='C:\\\\Users\\\\Melika\\\\OneDrive\\\\Documents\\\\my lessons\\\\com data mining\\\\tamrin2\\\\mnist_train'"
   ]
  },
  {
   "cell_type": "markdown",
   "id": "cc4fecdc",
   "metadata": {},
   "source": [
    "## function for calculate mean of array of images"
   ]
  },
  {
   "cell_type": "code",
   "execution_count": 3,
   "id": "b30a6e36",
   "metadata": {},
   "outputs": [],
   "source": [
    "def mean(g):\n",
    "    img=[]\n",
    "    for i in g:\n",
    "        img.append(np.asarray(Image.open(i)))\n",
    "    sum=0.0\n",
    "    for j in img:\n",
    "        sum=j+sum\n",
    "    mean=sum/20\n",
    "    return mean"
   ]
  },
  {
   "cell_type": "markdown",
   "id": "516daf5f",
   "metadata": {},
   "source": [
    "## all \"0\" images"
   ]
  },
  {
   "cell_type": "code",
   "execution_count": 4,
   "id": "466ef1d0",
   "metadata": {},
   "outputs": [
    {
     "data": {
      "text/plain": [
       "['C:\\\\Users\\\\Melika\\\\OneDrive\\\\Documents\\\\my lessons\\\\com data mining\\\\tamrin2\\\\mnist_train\\\\0\\\\img_153.jpg',\n",
       " 'C:\\\\Users\\\\Melika\\\\OneDrive\\\\Documents\\\\my lessons\\\\com data mining\\\\tamrin2\\\\mnist_train\\\\0\\\\img_157.jpg',\n",
       " 'C:\\\\Users\\\\Melika\\\\OneDrive\\\\Documents\\\\my lessons\\\\com data mining\\\\tamrin2\\\\mnist_train\\\\0\\\\img_2654.jpg',\n",
       " 'C:\\\\Users\\\\Melika\\\\OneDrive\\\\Documents\\\\my lessons\\\\com data mining\\\\tamrin2\\\\mnist_train\\\\0\\\\img_2665.jpg',\n",
       " 'C:\\\\Users\\\\Melika\\\\OneDrive\\\\Documents\\\\my lessons\\\\com data mining\\\\tamrin2\\\\mnist_train\\\\0\\\\img_2680.jpg',\n",
       " 'C:\\\\Users\\\\Melika\\\\OneDrive\\\\Documents\\\\my lessons\\\\com data mining\\\\tamrin2\\\\mnist_train\\\\0\\\\img_2684.jpg',\n",
       " 'C:\\\\Users\\\\Melika\\\\OneDrive\\\\Documents\\\\my lessons\\\\com data mining\\\\tamrin2\\\\mnist_train\\\\0\\\\img_2698.jpg',\n",
       " 'C:\\\\Users\\\\Melika\\\\OneDrive\\\\Documents\\\\my lessons\\\\com data mining\\\\tamrin2\\\\mnist_train\\\\0\\\\img_2707.jpg',\n",
       " 'C:\\\\Users\\\\Melika\\\\OneDrive\\\\Documents\\\\my lessons\\\\com data mining\\\\tamrin2\\\\mnist_train\\\\0\\\\img_2720.jpg',\n",
       " 'C:\\\\Users\\\\Melika\\\\OneDrive\\\\Documents\\\\my lessons\\\\com data mining\\\\tamrin2\\\\mnist_train\\\\0\\\\img_2729.jpg',\n",
       " 'C:\\\\Users\\\\Melika\\\\OneDrive\\\\Documents\\\\my lessons\\\\com data mining\\\\tamrin2\\\\mnist_train\\\\0\\\\img_757.jpg',\n",
       " 'C:\\\\Users\\\\Melika\\\\OneDrive\\\\Documents\\\\my lessons\\\\com data mining\\\\tamrin2\\\\mnist_train\\\\0\\\\img_761.jpg',\n",
       " 'C:\\\\Users\\\\Melika\\\\OneDrive\\\\Documents\\\\my lessons\\\\com data mining\\\\tamrin2\\\\mnist_train\\\\0\\\\img_764.jpg',\n",
       " 'C:\\\\Users\\\\Melika\\\\OneDrive\\\\Documents\\\\my lessons\\\\com data mining\\\\tamrin2\\\\mnist_train\\\\0\\\\img_774.jpg',\n",
       " 'C:\\\\Users\\\\Melika\\\\OneDrive\\\\Documents\\\\my lessons\\\\com data mining\\\\tamrin2\\\\mnist_train\\\\0\\\\img_781.jpg',\n",
       " 'C:\\\\Users\\\\Melika\\\\OneDrive\\\\Documents\\\\my lessons\\\\com data mining\\\\tamrin2\\\\mnist_train\\\\0\\\\img_783.jpg',\n",
       " 'C:\\\\Users\\\\Melika\\\\OneDrive\\\\Documents\\\\my lessons\\\\com data mining\\\\tamrin2\\\\mnist_train\\\\0\\\\img_809.jpg',\n",
       " 'C:\\\\Users\\\\Melika\\\\OneDrive\\\\Documents\\\\my lessons\\\\com data mining\\\\tamrin2\\\\mnist_train\\\\0\\\\img_817.jpg',\n",
       " 'C:\\\\Users\\\\Melika\\\\OneDrive\\\\Documents\\\\my lessons\\\\com data mining\\\\tamrin2\\\\mnist_train\\\\0\\\\img_819.jpg',\n",
       " 'C:\\\\Users\\\\Melika\\\\OneDrive\\\\Documents\\\\my lessons\\\\com data mining\\\\tamrin2\\\\mnist_train\\\\0\\\\img_828.jpg']"
      ]
     },
     "execution_count": 4,
     "metadata": {},
     "output_type": "execute_result"
    }
   ],
   "source": [
    "g0=glob.glob(path+'\\\\0\\\\*.jpg')\n",
    "g0"
   ]
  },
  {
   "cell_type": "markdown",
   "id": "200f4031",
   "metadata": {},
   "source": [
    "## mean of all \"0\" images"
   ]
  },
  {
   "cell_type": "code",
   "execution_count": 5,
   "id": "710bb378",
   "metadata": {},
   "outputs": [
    {
     "data": {
      "text/plain": [
       "<matplotlib.image.AxesImage at 0x2b276c26640>"
      ]
     },
     "execution_count": 5,
     "metadata": {},
     "output_type": "execute_result"
    },
    {
     "data": {
      "image/png": "[encoded data removed]",
      "text/plain": [
       "<Figure size 432x288 with 1 Axes>"
      ]
     },
     "metadata": {
      "needs_background": "light"
     },
     "output_type": "display_data"
    }
   ],
   "source": [
    "array=[]\n",
    "array.append(mean(g0))\n",
    "plt.imshow(mean(g0),cmap='gray')"
   ]
  },
  {
   "cell_type": "markdown",
   "id": "3b379c73",
   "metadata": {},
   "source": [
    "## mean of all \"1\" images"
   ]
  },
  {
   "cell_type": "code",
   "execution_count": 6,
   "id": "fe763b49",
   "metadata": {},
   "outputs": [
    {
     "data": {
      "text/plain": [
       "<matplotlib.image.AxesImage at 0x2b276cd6250>"
      ]
     },
     "execution_count": 6,
     "metadata": {},
     "output_type": "execute_result"
    },
    {
     "data": {
      "image/png": "[encoded data removed]",
      "text/plain": [
       "<Figure size 432x288 with 1 Axes>"
      ]
     },
     "metadata": {
      "needs_background": "light"
     },
     "output_type": "display_data"
    }
   ],
   "source": [
    "g1=glob.glob(path+'\\\\1\\\\*.jpg')\n",
    "array.append(mean(g1))\n",
    "plt.imshow(mean(g1),cmap='gray')"
   ]
  },
  {
   "cell_type": "markdown",
   "id": "5539ab1b",
   "metadata": {},
   "source": [
    "## mean of all \"2\" images"
   ]
  },
  {
   "cell_type": "code",
   "execution_count": 7,
   "id": "e5b87117",
   "metadata": {},
   "outputs": [
    {
     "data": {
      "text/plain": [
       "<matplotlib.image.AxesImage at 0x2b276d3b910>"
      ]
     },
     "execution_count": 7,
     "metadata": {},
     "output_type": "execute_result"
    },
    {
     "data": {
      "image/png": "[encoded data removed]",
      "text/plain": [
       "<Figure size 432x288 with 1 Axes>"
      ]
     },
     "metadata": {
      "needs_background": "light"
     },
     "output_type": "display_data"
    }
   ],
   "source": [
    "g2=glob.glob(path+'\\\\2\\\\*.jpg')\n",
    "array.append(mean(g2))\n",
    "plt.imshow(mean(g2),cmap='gray')"
   ]
  },
  {
   "cell_type": "markdown",
   "id": "693906a6",
   "metadata": {},
   "source": [
    "## mean of all \"3\" images"
   ]
  },
  {
   "cell_type": "code",
   "execution_count": 8,
   "id": "84e2c646",
   "metadata": {},
   "outputs": [
    {
     "data": {
      "text/plain": [
       "<matplotlib.image.AxesImage at 0x2b276da34f0>"
      ]
     },
     "execution_count": 8,
     "metadata": {},
     "output_type": "execute_result"
    },
    {
     "data": {
      "image/png": "[encoded data removed]",
      "text/plain": [
       "<Figure size 432x288 with 1 Axes>"
      ]
     },
     "metadata": {
      "needs_background": "light"
     },
     "output_type": "display_data"
    }
   ],
   "source": [
    "g3=glob.glob(path+'\\\\3\\\\*.jpg')\n",
    "array.append(mean(g3))\n",
    "plt.imshow(mean(g3),cmap='gray')"
   ]
  },
  {
   "cell_type": "markdown",
   "id": "fcfaa4e5",
   "metadata": {},
   "source": [
    "## mean of all \"4\" images"
   ]
  },
  {
   "cell_type": "code",
   "execution_count": 9,
   "id": "2046d996",
   "metadata": {},
   "outputs": [
    {
     "data": {
      "text/plain": [
       "<matplotlib.image.AxesImage at 0x2b276dff9a0>"
      ]
     },
     "execution_count": 9,
     "metadata": {},
     "output_type": "execute_result"
    },
    {
     "data": {
      "image/png": "[encoded data removed]",
      "text/plain": [
       "<Figure size 432x288 with 1 Axes>"
      ]
     },
     "metadata": {
      "needs_background": "light"
     },
     "output_type": "display_data"
    }
   ],
   "source": [
    "g4=glob.glob(path+'\\\\4\\\\*.jpg')\n",
    "array.append(mean(g4))\n",
    "plt.imshow(mean(g4),cmap='gray')"
   ]
  },
  {
   "cell_type": "markdown",
   "id": "914a04c4",
   "metadata": {},
   "source": [
    "## mean of all \"5\" images"
   ]
  },
  {
   "cell_type": "code",
   "execution_count": 10,
   "id": "3c4e4b65",
   "metadata": {},
   "outputs": [
    {
     "data": {
      "text/plain": [
       "<matplotlib.image.AxesImage at 0x2b276e639a0>"
      ]
     },
     "execution_count": 10,
     "metadata": {},
     "output_type": "execute_result"
    },
    {
     "data": {
      "image/png": "[encoded data removed]",
      "text/plain": [
       "<Figure size 432x288 with 1 Axes>"
      ]
     },
     "metadata": {
      "needs_background": "light"
     },
     "output_type": "display_data"
    }
   ],
   "source": [
    "g5=glob.glob(path+'\\\\5\\\\*.jpg')\n",
    "array.append(mean(g5))\n",
    "plt.imshow(mean(g5),cmap='gray')"
   ]
  },
  {
   "cell_type": "markdown",
   "id": "0fa16937",
   "metadata": {},
   "source": [
    "## mean of all \"6\" images"
   ]
  },
  {
   "cell_type": "code",
   "execution_count": 11,
   "id": "ab53397e",
   "metadata": {},
   "outputs": [
    {
     "data": {
      "text/plain": [
       "<matplotlib.image.AxesImage at 0x2b276ecda00>"
      ]
     },
     "execution_count": 11,
     "metadata": {},
     "output_type": "execute_result"
    },
    {
     "data": {
      "image/png": "[encoded data removed]",
      "text/plain": [
       "<Figure size 432x288 with 1 Axes>"
      ]
     },
     "metadata": {
      "needs_background": "light"
     },
     "output_type": "display_data"
    }
   ],
   "source": [
    "g6=glob.glob(path+'\\\\6\\\\*.jpg')\n",
    "array.append(mean(g6))\n",
    "plt.imshow(mean(g6),cmap='gray')"
   ]
  },
  {
   "cell_type": "markdown",
   "id": "0773c181",
   "metadata": {},
   "source": [
    "## mean of all \"7\" images"
   ]
  },
  {
   "cell_type": "code",
   "execution_count": 12,
   "id": "ed3be8f9",
   "metadata": {},
   "outputs": [
    {
     "data": {
      "text/plain": [
       "<matplotlib.image.AxesImage at 0x2b276f32a60>"
      ]
     },
     "execution_count": 12,
     "metadata": {},
     "output_type": "execute_result"
    },
    {
     "data": {
      "image/png": "[encoded data removed]",
      "text/plain": [
       "<Figure size 432x288 with 1 Axes>"
      ]
     },
     "metadata": {
      "needs_background": "light"
     },
     "output_type": "display_data"
    }
   ],
   "source": [
    "g7=glob.glob(path+'\\\\7\\\\*.jpg')\n",
    "array.append(mean(g7))\n",
    "plt.imshow(mean(g7),cmap='gray')"
   ]
  },
  {
   "cell_type": "markdown",
   "id": "73daa215",
   "metadata": {},
   "source": [
    "## mean of all \"8\" images"
   ]
  },
  {
   "cell_type": "code",
   "execution_count": 13,
   "id": "bdd22261",
   "metadata": {},
   "outputs": [
    {
     "data": {
      "text/plain": [
       "<matplotlib.image.AxesImage at 0x2b276f95af0>"
      ]
     },
     "execution_count": 13,
     "metadata": {},
     "output_type": "execute_result"
    },
    {
     "data": {
      "image/png": "[encoded data removed]",
      "text/plain": [
       "<Figure size 432x288 with 1 Axes>"
      ]
     },
     "metadata": {
      "needs_background": "light"
     },
     "output_type": "display_data"
    }
   ],
   "source": [
    "g8=glob.glob(path+'\\\\8\\\\*.jpg')\n",
    "array.append(mean(g8))\n",
    "plt.imshow(mean(g8),cmap='gray')"
   ]
  },
  {
   "cell_type": "markdown",
   "id": "6e86034c",
   "metadata": {},
   "source": [
    "## mean of all \"9\" images"
   ]
  },
  {
   "cell_type": "code",
   "execution_count": 14,
   "id": "16316fe6",
   "metadata": {},
   "outputs": [
    {
     "data": {
      "text/plain": [
       "<matplotlib.image.AxesImage at 0x2b276ffbac0>"
      ]
     },
     "execution_count": 14,
     "metadata": {},
     "output_type": "execute_result"
    },
    {
     "data": {
      "image/png": "[encoded data removed]",
      "text/plain": [
       "<Figure size 432x288 with 1 Axes>"
      ]
     },
     "metadata": {
      "needs_background": "light"
     },
     "output_type": "display_data"
    }
   ],
   "source": [
    "g9=glob.glob(path+'\\\\9\\\\*.jpg')\n",
    "array.append(mean(g9))\n",
    "plt.imshow(mean(g9),cmap='gray')"
   ]
  },
  {
   "cell_type": "markdown",
   "id": "85bbac15",
   "metadata": {},
   "source": [
    "## path of test set"
   ]
  },
  {
   "cell_type": "code",
   "execution_count": 15,
   "id": "6ed7bc1d",
   "metadata": {},
   "outputs": [],
   "source": [
    "path_test='C:\\\\Users\\\\Melika\\\\OneDrive\\\\Documents\\\\my lessons\\\\com data mining\\\\tamrin2\\\\mnist_test'"
   ]
  },
  {
   "cell_type": "markdown",
   "id": "7b18b5ad",
   "metadata": {},
   "source": [
    "## all test images"
   ]
  },
  {
   "cell_type": "code",
   "execution_count": 16,
   "id": "783092b6",
   "metadata": {},
   "outputs": [],
   "source": [
    "gtest=glob.glob(path_test+'\\\\*.jpg')"
   ]
  },
  {
   "cell_type": "markdown",
   "id": "bb20a015",
   "metadata": {},
   "source": [
    "## convert images to array and keep them in an array of arrays"
   ]
  },
  {
   "cell_type": "code",
   "execution_count": 17,
   "id": "7b264a29",
   "metadata": {},
   "outputs": [],
   "source": [
    "img_test=[]\n",
    "for i in gtest:\n",
    "    img_test.append(np.asarray(Image.open(i)))"
   ]
  },
  {
   "cell_type": "code",
   "execution_count": 18,
   "id": "aef7ff5e",
   "metadata": {},
   "outputs": [
    {
     "data": {
      "text/plain": [
       "(28, 28)"
      ]
     },
     "execution_count": 18,
     "metadata": {},
     "output_type": "execute_result"
    }
   ],
   "source": [
    "np.shape(img_test[0])"
   ]
  },
  {
   "cell_type": "markdown",
   "id": "084258e6",
   "metadata": {},
   "source": [
    "## function for calculates distance between to arrays"
   ]
  },
  {
   "cell_type": "code",
   "execution_count": 19,
   "id": "1e6240ea",
   "metadata": {},
   "outputs": [],
   "source": [
    "def D(p1,p2):\n",
    "    distance =0\n",
    "    for i in range(0,28):\n",
    "        for j in range(0,28):\n",
    "            distance += np.square(p1[i][j]-p2[i][j])\n",
    "    return np.sqrt(distance)"
   ]
  },
  {
   "cell_type": "markdown",
   "id": "bc7b1400",
   "metadata": {},
   "source": [
    "## function for find the best match for a new image"
   ]
  },
  {
   "cell_type": "code",
   "execution_count": 20,
   "id": "cd326069",
   "metadata": {},
   "outputs": [],
   "source": [
    "def best_pic(k):\n",
    "    mini=1000000000000000000\n",
    "    bestpic=0\n",
    "    for m in range(0,10):\n",
    "        if D(img_test[k],array[m]) < mini :\n",
    "            mini=D(img_test[k],array[m])\n",
    "            bestpic=m\n",
    "    return bestpic"
   ]
  },
  {
   "cell_type": "markdown",
   "id": "aeba3f3f",
   "metadata": {},
   "source": [
    "## classify 50 new images (test)"
   ]
  },
  {
   "cell_type": "code",
   "execution_count": 21,
   "id": "57cea764",
   "metadata": {},
   "outputs": [
    {
     "data": {
      "text/plain": [
       "[8,\n",
       " 0,\n",
       " 6,\n",
       " 4,\n",
       " 7,\n",
       " 3,\n",
       " 1,\n",
       " 6,\n",
       " 6,\n",
       " 9,\n",
       " 8,\n",
       " 9,\n",
       " 6,\n",
       " 5,\n",
       " 5,\n",
       " 7,\n",
       " 5,\n",
       " 3,\n",
       " 9,\n",
       " 6,\n",
       " 6,\n",
       " 6,\n",
       " 5,\n",
       " 6,\n",
       " 4,\n",
       " 6,\n",
       " 2,\n",
       " 2,\n",
       " 4,\n",
       " 6,\n",
       " 5,\n",
       " 3,\n",
       " 5,\n",
       " 5,\n",
       " 1,\n",
       " 3,\n",
       " 1,\n",
       " 4,\n",
       " 8,\n",
       " 9,\n",
       " 8,\n",
       " 5,\n",
       " 4,\n",
       " 5,\n",
       " 4,\n",
       " 1,\n",
       " 1,\n",
       " 4,\n",
       " 1,\n",
       " 1]"
      ]
     },
     "execution_count": 21,
     "metadata": {},
     "output_type": "execute_result"
    }
   ],
   "source": [
    "best_pics=[]\n",
    "for n in range(0,50) :\n",
    "    best_pics.append(best_pic(n))\n",
    "best_pics"
   ]
  },
  {
   "cell_type": "markdown",
   "id": "e45adbdc",
   "metadata": {},
   "source": [
    "## real label of test images"
   ]
  },
  {
   "cell_type": "code",
   "execution_count": 22,
   "id": "2e533c28",
   "metadata": {},
   "outputs": [
    {
     "data": {
      "text/plain": [
       "(50,)"
      ]
     },
     "execution_count": 22,
     "metadata": {},
     "output_type": "execute_result"
    }
   ],
   "source": [
    "real_labels=[5,0,4,7,7,3,1,6,6,9,3,9,6,5,5,7,5,3,9,6,6,6,0,6,4,6,2,2,4,6,5,3,0,5,1,3,1,8,8,9,8,0,4,5,4,1,1,5,1,1]\n",
    "np.shape(real_labels)"
   ]
  },
  {
   "cell_type": "markdown",
   "id": "45a4cae5",
   "metadata": {},
   "source": [
    "## number of test images that the classification for them is true"
   ]
  },
  {
   "cell_type": "code",
   "execution_count": 23,
   "id": "1780beed",
   "metadata": {},
   "outputs": [
    {
     "data": {
      "text/plain": [
       "41"
      ]
     },
     "execution_count": 23,
     "metadata": {},
     "output_type": "execute_result"
    }
   ],
   "source": [
    "count=0\n",
    "for a in range(0,50):\n",
    "    if best_pics[a] == real_labels[a]:\n",
    "        count=count+1\n",
    "count"
   ]
  },
  {
   "cell_type": "code",
   "execution_count": null,
   "id": "eae032bf",
   "metadata": {},
   "outputs": [],
   "source": []
  }
 ],
 "metadata": {
  "kernelspec": {
   "display_name": "Python 3 (ipykernel)",
   "language": "python",
   "name": "python3"
  },
  "language_info": {
   "codemirror_mode": {
    "name": "ipython",
    "version": 3
   },
   "file_extension": ".py",
   "mimetype": "text/x-python",
   "name": "python",
   "nbconvert_exporter": "python",
   "pygments_lexer": "ipython3",
   "version": "3.9.7"
  }
 },
 "nbformat": 4,
 "nbformat_minor": 5
}
